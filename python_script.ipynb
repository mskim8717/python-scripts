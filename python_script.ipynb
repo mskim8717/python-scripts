{
  "nbformat": 4,
  "nbformat_minor": 0,
  "metadata": {
    "colab": {
      "name": "python-script.ipynb",
      "provenance": [],
      "collapsed_sections": [],
      "mount_file_id": "13qdgfSE1QTuTY0jICOV4t_2TJeB7FX4X",
      "authorship_tag": "ABX9TyNIHLrB0fIMPZKq4ox34wHn",
      "include_colab_link": true
    },
    "kernelspec": {
      "name": "python3",
      "display_name": "Python 3"
    }
  },
  "cells": [
    {
      "cell_type": "markdown",
      "metadata": {
        "id": "view-in-github",
        "colab_type": "text"
      },
      "source": [
        "<a href=\"https://colab.research.google.com/github/mskim8717/python-scripts/blob/master/python_script.ipynb\" target=\"_parent\"><img src=\"https://colab.research.google.com/assets/colab-badge.svg\" alt=\"Open In Colab\"/></a>"
      ]
    },
    {
      "cell_type": "markdown",
      "metadata": {
        "id": "K9RDw528TVQ2",
        "colab_type": "text"
      },
      "source": [
        "python에서 excel 다루는 여러가지 라이브러리가 있는데 'openpyxl'을 써서 해결해보자.\n",
        "\n",
        "우선 install부터 시작!"
      ]
    },
    {
      "cell_type": "code",
      "metadata": {
        "id": "0t-6r54QShaP",
        "colab_type": "code",
        "colab": {
          "base_uri": "https://localhost:8080/",
          "height": 68
        },
        "outputId": "eee74432-805a-4ae7-b460-eccb94d6c0a1"
      },
      "source": [
        "pip install openpyxl"
      ],
      "execution_count": null,
      "outputs": [
        {
          "output_type": "stream",
          "text": [
            "Requirement already satisfied: openpyxl in /usr/local/lib/python3.6/dist-packages (2.5.9)\n",
            "Requirement already satisfied: et-xmlfile in /usr/local/lib/python3.6/dist-packages (from openpyxl) (1.0.1)\n",
            "Requirement already satisfied: jdcal in /usr/local/lib/python3.6/dist-packages (from openpyxl) (1.4.1)\n"
          ],
          "name": "stdout"
        }
      ]
    },
    {
      "cell_type": "markdown",
      "metadata": {
        "id": "not_vG6gWPWe",
        "colab_type": "text"
      },
      "source": [
        "load_workbook 모듈을 사용한다"
      ]
    },
    {
      "cell_type": "code",
      "metadata": {
        "id": "DnMGE6b3TFiV",
        "colab_type": "code",
        "colab": {}
      },
      "source": [
        "from openpyxl import load_workbook"
      ],
      "execution_count": null,
      "outputs": []
    },
    {
      "cell_type": "markdown",
      "metadata": {
        "id": "Wu0BHs5kWVgY",
        "colab_type": "text"
      },
      "source": [
        "표지마다 넣을 직원명단 엑셀을 불러온다.\n",
        "워크북(wb)으로 먼저 불러오고 시트명을 지정해서 워크시트(ws) 변수에 담아준다."
      ]
    },
    {
      "cell_type": "code",
      "metadata": {
        "id": "dOyrgQtpTL1u",
        "colab_type": "code",
        "colab": {}
      },
      "source": [
        "wb = load_workbook('/content/drive/My Drive/tistory/직원명단.xlsx')\n",
        "ws = wb['Sheet1']"
      ],
      "execution_count": null,
      "outputs": []
    },
    {
      "cell_type": "markdown",
      "metadata": {
        "id": "avVfVnX3WkfH",
        "colab_type": "text"
      },
      "source": [
        "표지 양식인 소스(source.xlsx)를 불러온다.\n",
        "그리고 표지마다 직원명단과 인덱스번호가 들어간 최종(dest) 파일로 넣어준다."
      ]
    },
    {
      "cell_type": "code",
      "metadata": {
        "id": "Sfkfd1PQTrCL",
        "colab_type": "code",
        "colab": {}
      },
      "source": [
        "new_wb = load_workbook('/content/drive/My Drive/tistory/source.xlsx')"
      ],
      "execution_count": null,
      "outputs": []
    },
    {
      "cell_type": "code",
      "metadata": {
        "id": "OtQEgsUrUC-F",
        "colab_type": "code",
        "colab": {}
      },
      "source": [
        "dest = new_wb['Sheet1']"
      ],
      "execution_count": null,
      "outputs": []
    },
    {
      "cell_type": "markdown",
      "metadata": {
        "id": "Ls1Iaxp3XAfv",
        "colab_type": "text"
      },
      "source": [
        "자 이제 for loop 수행하면서 \n",
        "지금은 예제로 10명만 했지만, 100명, 1000명 그 이상\n",
        "순식간에 표지를 만들어 낸다."
      ]
    },
    {
      "cell_type": "code",
      "metadata": {
        "id": "pwmYBa5iUJ_K",
        "colab_type": "code",
        "colab": {}
      },
      "source": [
        "for i in range(2, 12):\n",
        "  dest['F1'] = ws.cell(i, 1).value\n",
        "  dest['C23'] = ws.cell(i, 3).value\n",
        "  new_wb.copy_worksheet(dest)"
      ],
      "execution_count": null,
      "outputs": []
    },
    {
      "cell_type": "markdown",
      "metadata": {
        "id": "x4WxKdGRXNA3",
        "colab_type": "text"
      },
      "source": [
        "최종(dest) 파일을 잘 정리해주면, 오늘 업무 끝."
      ]
    },
    {
      "cell_type": "code",
      "metadata": {
        "id": "BFoRSuBEUcYx",
        "colab_type": "code",
        "colab": {}
      },
      "source": [
        "new_wb.save('/content/drive/My Drive/tistory/dest.xlsx')\n",
        "new_wb.close()"
      ],
      "execution_count": null,
      "outputs": []
    },
    {
      "cell_type": "markdown",
      "metadata": {
        "id": "DK2OfvGkXWOu",
        "colab_type": "text"
      },
      "source": [
        "오늘도 수고하셨습니다.\n",
        "퇴근합시다."
      ]
    }
  ]
}