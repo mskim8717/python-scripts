{
  "nbformat": 4,
  "nbformat_minor": 0,
  "metadata": {
    "colab": {
      "name": "국토부_오픈API_아파트실거래가_수집.ipynb",
      "provenance": [],
      "collapsed_sections": []
    },
    "kernelspec": {
      "name": "python3",
      "display_name": "Python 3"
    }
  },
  "cells": [
    {
      "cell_type": "markdown",
      "metadata": {
        "id": "5Z1lNvd3t3ZB"
      },
      "source": [
        "# 1. 국토부 오픈API 아파트 실거래가 수집"
      ]
    },
    {
      "cell_type": "code",
      "metadata": {
        "colab": {
          "base_uri": "https://localhost:8080/"
        },
        "id": "ygeyxUzzi_wo",
        "outputId": "1264caa0-cdd1-416d-a8df-c05836e2b35a"
      },
      "source": [
        " ! pip install xmltodict  # 국토부 실거래 데이터 xml -> json 변환"
      ],
      "execution_count": 133,
      "outputs": [
        {
          "output_type": "stream",
          "text": [
            "Requirement already satisfied: xmltodict in /usr/local/lib/python3.7/dist-packages (0.12.0)\n"
          ],
          "name": "stdout"
        }
      ]
    },
    {
      "cell_type": "code",
      "metadata": {
        "id": "P14sPJPWiDQ1"
      },
      "source": [
        "import os\n",
        "import pandas as pd\n",
        "import folium\n",
        "import json\n",
        "import seaborn as sns\n",
        "import xmltodict\n",
        "from datetime import datetime, date\n",
        "from dateutil.relativedelta import relativedelta\n",
        "from urllib.request import Request, urlopen\n",
        "from urllib.parse import urlencode, quote_plus, quote\n",
        "from folium.plugins import HeatMap"
      ],
      "execution_count": 134,
      "outputs": []
    },
    {
      "cell_type": "code",
      "metadata": {
        "id": "HPCVxJtZi781"
      },
      "source": [
        "molit_serviceKey = '발급받은서비스키입력'"
      ],
      "execution_count": 135,
      "outputs": []
    },
    {
      "cell_type": "code",
      "metadata": {
        "id": "t-FJY02Si5Ry"
      },
      "source": [
        "def molit_public_api(key, rcode, dealdate):\n",
        "  try:\n",
        "    print(rcode, dealdate)\n",
        "    base = \"http://openapi.molit.go.kr:8081/OpenAPI_ToolInstallPackage/service/rest/RTMSOBJSvc/getRTMSDataSvcAptTrade?\"\n",
        "\n",
        "    try:\n",
        "      parameters = \"serviceKey=%s&\" % (key) + urlencode({quote_plus('LAWD_CD'): rcode, quote_plus('DEAL_YMD'): str(dealdate), quote_plus('numOfRows'): str(9999)}, encoding='UTF-8')\n",
        "    except:\n",
        "      return None\n",
        "        \n",
        "    url = base + parameters\n",
        "    # print('url', url)\n",
        "\n",
        "    request = Request(url)\n",
        "    response = urlopen(request)\n",
        "    rescode = response.getcode()\n",
        "    # print(rescode)\n",
        "    if rescode == 200:\n",
        "      response_body = response.read().decode('utf-8')\n",
        "    else:\n",
        "      print('error code :' + rescode)\n",
        "\n",
        "    if response_body == None:\n",
        "      return None\n",
        "\n",
        "    jsonData = json.loads(json.dumps(xmltodict.parse(response_body)))\n",
        "    # print(jsonData['response']['body']['items']['item'])\n",
        "    df = pd.DataFrame(jsonData['response']['body']['items']['item'])\n",
        "    print(df.shape)\n",
        "    return df\n",
        "\n",
        "  except Exception as e:\n",
        "    print('exception occur!', str(e))"
      ],
      "execution_count": 136,
      "outputs": []
    },
    {
      "cell_type": "code",
      "metadata": {
        "id": "bqXlEW9rqwXO"
      },
      "source": [
        "def get_yearmonth_list(year, month):\n",
        "    this_yearmonth = date.today()\n",
        "    init_yearmonth = datetime.strptime(year+month, \"%Y%m\").date()\n",
        "    year_months = []\n",
        "    while init_yearmonth <= this_yearmonth:\n",
        "        year_months.append(init_yearmonth)\n",
        "        init_yearmonth = init_yearmonth + relativedelta(months=1)\n",
        "    return year_months"
      ],
      "execution_count": 137,
      "outputs": []
    },
    {
      "cell_type": "code",
      "metadata": {
        "id": "TYaS-Gw33Dym"
      },
      "source": [
        "year_months = get_yearmonth_list(year='2020', month='1')"
      ],
      "execution_count": 138,
      "outputs": []
    },
    {
      "cell_type": "code",
      "metadata": {
        "id": "8XKHhA_uA3ZR",
        "colab": {
          "base_uri": "https://localhost:8080/"
        },
        "outputId": "ed79b77a-956b-4097-9343-6a6640488d87"
      },
      "source": [
        "for year_month in year_months:\n",
        "    dirname = '/content/drive/MyDrive/국토부_실거래'\n",
        "    yearmonth = year_month.strftime(\"%Y%m\") #202102\n",
        "    \n",
        "    filename = os.path.join(dirname, '{}.csv'.format(yearmonth))\n",
        "    if not os.path.isfile(filename):\n",
        "      df_molit_api = molit_public_api(molit_serviceKey, rcode='36110', dealdate=yearmonth)\n",
        "      df_molit_api.to_csv(filename, encoding='utf8', index=False)\n",
        "    else:\n",
        "      print(yearmonth, '이미 파일이 존재합니다.')"
      ],
      "execution_count": 139,
      "outputs": [
        {
          "output_type": "stream",
          "text": [
            "36110 202001\n",
            "(1079, 13)\n",
            "36110 202002\n",
            "(1054, 13)\n",
            "36110 202003\n",
            "(463, 13)\n",
            "36110 202004\n",
            "(370, 13)\n",
            "36110 202005\n",
            "(665, 13)\n",
            "36110 202006\n",
            "(1543, 13)\n",
            "36110 202007\n",
            "(1392, 13)\n",
            "36110 202008\n",
            "(709, 13)\n",
            "36110 202009\n",
            "(318, 13)\n",
            "36110 202010\n",
            "(264, 13)\n",
            "36110 202011\n",
            "(602, 13)\n",
            "36110 202012\n",
            "(1154, 13)\n",
            "202101 이미 파일이 존재합니다.\n",
            "202102 이미 파일이 존재합니다.\n",
            "202103 이미 파일이 존재합니다.\n",
            "202104 이미 파일이 존재합니다.\n"
          ],
          "name": "stdout"
        }
      ]
    },
    {
      "cell_type": "code",
      "metadata": {
        "id": "m42KKw43Es4G",
        "colab": {
          "base_uri": "https://localhost:8080/",
          "height": 204
        },
        "outputId": "d00f5f4f-efc5-4132-bffa-67c69d40c782"
      },
      "source": [
        "df = pd.read_csv('/content/drive/MyDrive/국토부_실거래/202002.csv')\n",
        "df.head()"
      ],
      "execution_count": 140,
      "outputs": [
        {
          "output_type": "execute_result",
          "data": {
            "text/html": [
              "<div>\n",
              "<style scoped>\n",
              "    .dataframe tbody tr th:only-of-type {\n",
              "        vertical-align: middle;\n",
              "    }\n",
              "\n",
              "    .dataframe tbody tr th {\n",
              "        vertical-align: top;\n",
              "    }\n",
              "\n",
              "    .dataframe thead th {\n",
              "        text-align: right;\n",
              "    }\n",
              "</style>\n",
              "<table border=\"1\" class=\"dataframe\">\n",
              "  <thead>\n",
              "    <tr style=\"text-align: right;\">\n",
              "      <th></th>\n",
              "      <th>거래금액</th>\n",
              "      <th>건축년도</th>\n",
              "      <th>년</th>\n",
              "      <th>법정동</th>\n",
              "      <th>아파트</th>\n",
              "      <th>월</th>\n",
              "      <th>일</th>\n",
              "      <th>전용면적</th>\n",
              "      <th>지번</th>\n",
              "      <th>지역코드</th>\n",
              "      <th>층</th>\n",
              "      <th>해제사유발생일</th>\n",
              "      <th>해제여부</th>\n",
              "    </tr>\n",
              "  </thead>\n",
              "  <tbody>\n",
              "    <tr>\n",
              "      <th>0</th>\n",
              "      <td>47,000</td>\n",
              "      <td>2019</td>\n",
              "      <td>2020</td>\n",
              "      <td>반곡동</td>\n",
              "      <td>수루배마을2단지</td>\n",
              "      <td>2</td>\n",
              "      <td>4</td>\n",
              "      <td>62.114</td>\n",
              "      <td>가-4101-2</td>\n",
              "      <td>36110</td>\n",
              "      <td>5</td>\n",
              "      <td>NaN</td>\n",
              "      <td>NaN</td>\n",
              "    </tr>\n",
              "    <tr>\n",
              "      <th>1</th>\n",
              "      <td>80,000</td>\n",
              "      <td>2019</td>\n",
              "      <td>2020</td>\n",
              "      <td>반곡동</td>\n",
              "      <td>수루배마을1단지</td>\n",
              "      <td>2</td>\n",
              "      <td>5</td>\n",
              "      <td>96.788</td>\n",
              "      <td>가-4102-1</td>\n",
              "      <td>36110</td>\n",
              "      <td>20</td>\n",
              "      <td>NaN</td>\n",
              "      <td>NaN</td>\n",
              "    </tr>\n",
              "    <tr>\n",
              "      <th>2</th>\n",
              "      <td>65,000</td>\n",
              "      <td>2019</td>\n",
              "      <td>2020</td>\n",
              "      <td>반곡동</td>\n",
              "      <td>수루배마을4단지(세종더샵예미지)</td>\n",
              "      <td>2</td>\n",
              "      <td>8</td>\n",
              "      <td>84.890</td>\n",
              "      <td>가-4102-3</td>\n",
              "      <td>36110</td>\n",
              "      <td>10</td>\n",
              "      <td>NaN</td>\n",
              "      <td>NaN</td>\n",
              "    </tr>\n",
              "    <tr>\n",
              "      <th>3</th>\n",
              "      <td>69,000</td>\n",
              "      <td>2019</td>\n",
              "      <td>2020</td>\n",
              "      <td>반곡동</td>\n",
              "      <td>수루배마을1단지</td>\n",
              "      <td>2</td>\n",
              "      <td>10</td>\n",
              "      <td>84.454</td>\n",
              "      <td>가-4102-1</td>\n",
              "      <td>36110</td>\n",
              "      <td>15</td>\n",
              "      <td>NaN</td>\n",
              "      <td>NaN</td>\n",
              "    </tr>\n",
              "    <tr>\n",
              "      <th>4</th>\n",
              "      <td>50,000</td>\n",
              "      <td>2019</td>\n",
              "      <td>2020</td>\n",
              "      <td>반곡동</td>\n",
              "      <td>수루배마을4단지(세종더샵예미지)</td>\n",
              "      <td>2</td>\n",
              "      <td>10</td>\n",
              "      <td>94.970</td>\n",
              "      <td>가-4102-3</td>\n",
              "      <td>36110</td>\n",
              "      <td>17</td>\n",
              "      <td>NaN</td>\n",
              "      <td>NaN</td>\n",
              "    </tr>\n",
              "  </tbody>\n",
              "</table>\n",
              "</div>"
            ],
            "text/plain": [
              "     거래금액  건축년도     년  법정동                아파트  ...        지번   지역코드   층 해제사유발생일  해제여부\n",
              "0  47,000  2019  2020  반곡동           수루배마을2단지  ...  가-4101-2  36110   5     NaN   NaN\n",
              "1  80,000  2019  2020  반곡동           수루배마을1단지  ...  가-4102-1  36110  20     NaN   NaN\n",
              "2  65,000  2019  2020  반곡동  수루배마을4단지(세종더샵예미지)  ...  가-4102-3  36110  10     NaN   NaN\n",
              "3  69,000  2019  2020  반곡동           수루배마을1단지  ...  가-4102-1  36110  15     NaN   NaN\n",
              "4  50,000  2019  2020  반곡동  수루배마을4단지(세종더샵예미지)  ...  가-4102-3  36110  17     NaN   NaN\n",
              "\n",
              "[5 rows x 13 columns]"
            ]
          },
          "metadata": {
            "tags": []
          },
          "execution_count": 140
        }
      ]
    },
    {
      "cell_type": "markdown",
      "metadata": {
        "id": "gJR3Mim5wA4h"
      },
      "source": [
        "# 2. 국토부 오픈API 아파트 실거래가 데이터 불러오기"
      ]
    },
    {
      "cell_type": "code",
      "metadata": {
        "id": "jIt60Z8WwHmI"
      },
      "source": [
        "# start_y, end_y : YEAR 4자리\n",
        "# start_m, end_m : MONTH 1~2자리\n",
        "def get_file_list(start_y, start_m, end_y, end_m):\n",
        "  if len(str(start_m)) == 1:\n",
        "    start_m = '{0:02d}'.format(start_m)\n",
        "  if len(str(end_m)) == 1:\n",
        "    end_m = '{0:02d}'.format(end_m)\n",
        "\n",
        "  start = int(str(start_y) + str(start_m))\n",
        "  end = int(str(end_y) + str(end_m))\n",
        "\n",
        "  print('조회시작:{}, 조회종료:{}'.format(start, end))\n",
        "\n",
        "  temp_list = []\n",
        "  sum = 0\n",
        "  for file in os.walk('/content/drive/MyDrive/국토부_실거래/').__next__()[2]:\n",
        "    fileName, fileExt = os.path.splitext(file) # 파일명과 파일확장자 구분\n",
        "    if start <= int(fileName) <= end:\n",
        "      df = pd.read_csv(os.path.join('/content/drive/MyDrive/국토부_실거래/', file), index_col=False)\n",
        "      temp_list.append(df)\n",
        "  \n",
        "  df = pd.concat(temp_list, axis=0)\n",
        "  print('조회완료!')\n",
        "  return df"
      ],
      "execution_count": 145,
      "outputs": []
    },
    {
      "cell_type": "code",
      "metadata": {
        "colab": {
          "base_uri": "https://localhost:8080/"
        },
        "id": "YzsTev8NzHGq",
        "outputId": "6a346abb-8083-40f9-f2c6-eb05dbf43e3c"
      },
      "source": [
        "df = get_file_list(start_y=2020, start_m=1, end_y=2020, end_m=12)\n",
        "df.head()"
      ],
      "execution_count": 146,
      "outputs": [
        {
          "output_type": "stream",
          "text": [
            "조회시작:202001, 조회종료:202012\n",
            "조회완료!\n"
          ],
          "name": "stdout"
        }
      ]
    }
  ]
}