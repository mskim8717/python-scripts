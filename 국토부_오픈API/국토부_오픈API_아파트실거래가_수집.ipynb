{
  "nbformat": 4,
  "nbformat_minor": 0,
  "metadata": {
    "colab": {
      "name": "국토부_오픈API_아파트실거래가_수집.ipynb",
      "provenance": [],
      "collapsed_sections": [],
      "toc_visible": true
    },
    "kernelspec": {
      "name": "python3",
      "display_name": "Python 3"
    }
  },
  "cells": [
    {
      "cell_type": "markdown",
      "metadata": {
        "id": "5Z1lNvd3t3ZB"
      },
      "source": [
        "# 1. 국토부 오픈API 아파트 실거래가 수집"
      ]
    },
    {
      "cell_type": "code",
      "metadata": {
        "colab": {
          "base_uri": "https://localhost:8080/"
        },
        "id": "ygeyxUzzi_wo",
        "outputId": "5140c14f-9800-4087-df22-599af8fa235f"
      },
      "source": [
        " ! pip install xmltodict  # 국토부 실거래 데이터 xml -> json 변환"
      ],
      "execution_count": 8,
      "outputs": [
        {
          "output_type": "stream",
          "text": [
            "Requirement already satisfied: xmltodict in /usr/local/lib/python3.7/dist-packages (0.12.0)\n"
          ],
          "name": "stdout"
        }
      ]
    },
    {
      "cell_type": "code",
      "metadata": {
        "id": "P14sPJPWiDQ1"
      },
      "source": [
        "import os\n",
        "import pandas as pd\n",
        "import folium\n",
        "import json\n",
        "import seaborn as sns\n",
        "import xmltodict\n",
        "from datetime import datetime, date\n",
        "from dateutil.relativedelta import relativedelta\n",
        "from urllib.request import Request, urlopen\n",
        "from urllib.parse import urlencode, quote_plus, quote\n",
        "from folium.plugins import HeatMap"
      ],
      "execution_count": 9,
      "outputs": []
    },
    {
      "cell_type": "code",
      "metadata": {
        "id": "HPCVxJtZi781"
      },
      "source": [
        "molit_serviceKey = 'V3pgDw4Na%2BC2XkjtjQzQ1Co6xR9HCnU3pJw4lPUNX4TU3RdZXu7%2FX60NUnj9UOWrbTpukrfudRi1baplWwp7%2BQ%3D%3D'"
      ],
      "execution_count": 10,
      "outputs": []
    },
    {
      "cell_type": "code",
      "metadata": {
        "id": "t-FJY02Si5Ry"
      },
      "source": [
        "def molit_public_api(key, rcode, dealdate):\n",
        "  try:\n",
        "    # print(rcode, dealdate)\n",
        "    base = \"http://openapi.molit.go.kr:8081/OpenAPI_ToolInstallPackage/service/rest/RTMSOBJSvc/getRTMSDataSvcAptTrade?\"\n",
        "\n",
        "    try:\n",
        "      parameters = \"serviceKey=%s&\" % (key) + urlencode({quote_plus('LAWD_CD'): rcode, quote_plus('DEAL_YMD'): str(dealdate), quote_plus('numOfRows'): str(9999)}, encoding='UTF-8')\n",
        "    except:\n",
        "      return None\n",
        "        \n",
        "    url = base + parameters\n",
        "    # print('url', url)\n",
        "\n",
        "    request = Request(url)\n",
        "    response = urlopen(request)\n",
        "    rescode = response.getcode()\n",
        "    # print(rescode)\n",
        "    if rescode == 200:\n",
        "      response_body = response.read().decode('utf-8')\n",
        "    else:\n",
        "      print('error code :' + rescode)\n",
        "\n",
        "    if response_body == None:\n",
        "      return None\n",
        "\n",
        "    jsonData = json.loads(json.dumps(xmltodict.parse(response_body)))\n",
        "    if jsonData['response']['body']['items'] is not None:\n",
        "      df = pd.DataFrame(jsonData['response']['body']['items']['item'])\n",
        "      return df\n",
        "    else:\n",
        "      return None\n",
        "\n",
        "  except Exception as e:\n",
        "    print('exception occur!', str(e))"
      ],
      "execution_count": 35,
      "outputs": []
    },
    {
      "cell_type": "code",
      "metadata": {
        "id": "bqXlEW9rqwXO"
      },
      "source": [
        "def get_yearmonth_list(year, month):\n",
        "    this_yearmonth = date.today()\n",
        "    init_yearmonth = datetime.strptime(year+month, \"%Y%m\").date()\n",
        "    year_months = []\n",
        "    while init_yearmonth <= this_yearmonth:\n",
        "        year_months.append(init_yearmonth)\n",
        "        init_yearmonth = init_yearmonth + relativedelta(months=1)\n",
        "    return year_months"
      ],
      "execution_count": 36,
      "outputs": []
    },
    {
      "cell_type": "code",
      "metadata": {
        "id": "TYaS-Gw33Dym"
      },
      "source": [
        "year_months = get_yearmonth_list(year='2021', month='4')"
      ],
      "execution_count": 37,
      "outputs": []
    },
    {
      "cell_type": "code",
      "metadata": {
        "id": "8XKHhA_uA3ZR",
        "colab": {
          "base_uri": "https://localhost:8080/"
        },
        "outputId": "22dc4fe9-97ac-4c00-a745-76122bb9ec15"
      },
      "source": [
        "for year_month in year_months:\n",
        "  try:\n",
        "      dirname = '/content/drive/MyDrive/국토부_실거래'\n",
        "      yearmonth = year_month.strftime(\"%Y%m\") #202102\n",
        "      \n",
        "      filename = os.path.join(dirname, '{}.csv'.format(yearmonth))\n",
        "      if not os.path.isfile(filename):\n",
        "        df_molit_api = molit_public_api(molit_serviceKey, rcode='36110', dealdate=yearmonth)\n",
        "        if df_molit_api is not None:\n",
        "          df_molit_api.to_csv(filename, encoding='utf8', index=False)\n",
        "        else:\n",
        "          print(yearmonth, '조회 가능한 데이터가 없어 파일을 생성할 수 없습니다.')\n",
        "      else:\n",
        "        print(yearmonth, '이미 파일이 존재합니다.')\n",
        "  except Exception as e:\n",
        "    print(str(e))"
      ],
      "execution_count": 38,
      "outputs": [
        {
          "output_type": "stream",
          "text": [
            "202104 이미 파일이 존재합니다.\n",
            "202105 조회 가능한 데이터가 없어 파일을 생성할 수 없습니다.\n"
          ],
          "name": "stdout"
        }
      ]
    },
    {
      "cell_type": "code",
      "metadata": {
        "id": "m42KKw43Es4G"
      },
      "source": [
        "df = pd.read_csv('/content/drive/MyDrive/국토부_실거래/202002.csv')\n",
        "df.head()"
      ],
      "execution_count": null,
      "outputs": []
    },
    {
      "cell_type": "markdown",
      "metadata": {
        "id": "gJR3Mim5wA4h"
      },
      "source": [
        "# 2. 국토부 오픈API 아파트 실거래가 데이터 불러오기"
      ]
    },
    {
      "cell_type": "code",
      "metadata": {
        "id": "jIt60Z8WwHmI"
      },
      "source": [
        "# start_y, end_y : YEAR 4자리\n",
        "# start_m, end_m : MONTH 1~2자리\n",
        "def get_file_list(start_y, start_m, end_y, end_m):\n",
        "  if len(str(start_m)) == 1:\n",
        "    start_m = '{0:02d}'.format(start_m)\n",
        "  if len(str(end_m)) == 1:\n",
        "    end_m = '{0:02d}'.format(end_m)\n",
        "\n",
        "  start = int(str(start_y) + str(start_m))\n",
        "  end = int(str(end_y) + str(end_m))\n",
        "\n",
        "  print('조회시작:{}, 조회종료:{}'.format(start, end))\n",
        "\n",
        "  temp_list = []\n",
        "  sum = 0\n",
        "  for file in os.walk('/content/drive/MyDrive/국토부_실거래/').__next__()[2]:\n",
        "    fileName, fileExt = os.path.splitext(file) # 파일명과 파일확장자 구분\n",
        "    if start <= int(fileName) <= end:\n",
        "      df = pd.read_csv(os.path.join('/content/drive/MyDrive/국토부_실거래/', file), index_col=False)\n",
        "      temp_list.append(df)\n",
        "  \n",
        "  df = pd.concat(temp_list, axis=0)\n",
        "  print('조회완료!')\n",
        "  return df"
      ],
      "execution_count": null,
      "outputs": []
    },
    {
      "cell_type": "code",
      "metadata": {
        "colab": {
          "base_uri": "https://localhost:8080/"
        },
        "id": "YzsTev8NzHGq",
        "outputId": "6a346abb-8083-40f9-f2c6-eb05dbf43e3c"
      },
      "source": [
        "df = get_file_list(start_y=2020, start_m=1, end_y=2020, end_m=12)\n",
        "df.head()"
      ],
      "execution_count": null,
      "outputs": [
        {
          "output_type": "stream",
          "text": [
            "조회시작:202001, 조회종료:202012\n",
            "조회완료!\n"
          ],
          "name": "stdout"
        }
      ]
    }
  ]
}