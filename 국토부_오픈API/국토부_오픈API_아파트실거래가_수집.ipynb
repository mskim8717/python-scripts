{
  "nbformat": 4,
  "nbformat_minor": 0,
  "metadata": {
    "colab": {
      "name": "국토부_오픈API_아파트실거래가_수집.ipynb",
      "provenance": [],
      "collapsed_sections": []
    },
    "kernelspec": {
      "name": "python3",
      "display_name": "Python 3"
    }
  },
  "cells": [
    {
      "cell_type": "code",
      "metadata": {
        "colab": {
          "base_uri": "https://localhost:8080/"
        },
        "id": "ygeyxUzzi_wo",
        "outputId": "34e99a49-9004-40dc-83c5-b83ef66c354c"
      },
      "source": [
        " ! pip install xmltodict  # 국토부 실거래 데이터 xml -> json 변환"
      ],
      "execution_count": 1,
      "outputs": [
        {
          "output_type": "stream",
          "text": [
            "Collecting xmltodict\n",
            "  Downloading https://files.pythonhosted.org/packages/28/fd/30d5c1d3ac29ce229f6bdc40bbc20b28f716e8b363140c26eff19122d8a5/xmltodict-0.12.0-py2.py3-none-any.whl\n",
            "Installing collected packages: xmltodict\n",
            "Successfully installed xmltodict-0.12.0\n"
          ],
          "name": "stdout"
        }
      ]
    },
    {
      "cell_type": "code",
      "metadata": {
        "id": "P14sPJPWiDQ1"
      },
      "source": [
        "import os\n",
        "import pandas as pd\n",
        "import folium\n",
        "import json\n",
        "import seaborn as sns\n",
        "import xmltodict\n",
        "from datetime import datetime, date\n",
        "from dateutil.relativedelta import relativedelta\n",
        "from urllib.request import Request, urlopen\n",
        "from urllib.parse import urlencode, quote_plus, quote\n",
        "from folium.plugins import HeatMap"
      ],
      "execution_count": 2,
      "outputs": []
    },
    {
      "cell_type": "code",
      "metadata": {
        "id": "HPCVxJtZi781"
      },
      "source": [
        "molit_serviceKey = '발급받은서비스키입력'"
      ],
      "execution_count": 3,
      "outputs": []
    },
    {
      "cell_type": "code",
      "metadata": {
        "id": "t-FJY02Si5Ry"
      },
      "source": [
        "def molit_public_api(key, rcode, dealdate):\n",
        "  try:\n",
        "    print(rcode, dealdate)\n",
        "    base = \"http://openapi.molit.go.kr:8081/OpenAPI_ToolInstallPackage/service/rest/RTMSOBJSvc/getRTMSDataSvcAptTrade?\"\n",
        "\n",
        "    try:\n",
        "      parameters = \"serviceKey=%s&\" % (key) + urlencode({quote_plus('LAWD_CD'): rcode, quote_plus('DEAL_YMD'): str(dealdate), quote_plus('numOfRows'): str(9999)}, encoding='UTF-8')\n",
        "    except:\n",
        "      return None\n",
        "        \n",
        "    url = base + parameters\n",
        "    # print('url', url)\n",
        "\n",
        "    request = Request(url)\n",
        "    response = urlopen(request)\n",
        "    rescode = response.getcode()\n",
        "    # print(rescode)\n",
        "    if rescode == 200:\n",
        "      response_body = response.read().decode('utf-8')\n",
        "    else:\n",
        "      print('error code :' + rescode)\n",
        "\n",
        "    if response_body == None:\n",
        "      return None\n",
        "\n",
        "    jsonData = json.loads(json.dumps(xmltodict.parse(response_body)))\n",
        "    # print(jsonData['response']['body']['items']['item'])\n",
        "    df = pd.DataFrame(jsonData['response']['body']['items']['item'])\n",
        "    print(df.shape)\n",
        "    return df\n",
        "\n",
        "  except Exception as e:\n",
        "    print('exception occur!', str(e))"
      ],
      "execution_count": 4,
      "outputs": []
    },
    {
      "cell_type": "code",
      "metadata": {
        "id": "bqXlEW9rqwXO"
      },
      "source": [
        "def get_yearmonth_list(year, month):\n",
        "    this_yearmonth = date.today()\n",
        "    init_yearmonth = datetime.strptime(year+month, \"%Y%m\").date()\n",
        "    year_months = []\n",
        "    while init_yearmonth <= this_yearmonth:\n",
        "        year_months.append(init_yearmonth)\n",
        "        init_yearmonth = init_yearmonth + relativedelta(months=1)\n",
        "    return year_months"
      ],
      "execution_count": 5,
      "outputs": []
    },
    {
      "cell_type": "code",
      "metadata": {
        "id": "TYaS-Gw33Dym"
      },
      "source": [
        "year_months = get_yearmonth_list(year='2012', month='1')"
      ],
      "execution_count": 6,
      "outputs": []
    },
    {
      "cell_type": "code",
      "metadata": {
        "colab": {
          "base_uri": "https://localhost:8080/"
        },
        "id": "8XKHhA_uA3ZR",
        "outputId": "95ee4cc3-0853-46ec-9af8-34a2bf2493ba"
      },
      "source": [
        "for year_month in year_months:\n",
        "    dirname = '/content/drive/MyDrive/국토부_실거래'\n",
        "    yearmonth = year_month.strftime(\"%Y%m\") #202102\n",
        "    \n",
        "    filename = os.path.join(dirname, '{}.csv'.format(yearmonth))\n",
        "    if not os.path.isfile(filename):\n",
        "      df_molit_api = molit_public_api(molit_serviceKey, rcode='36110', dealdate=yearmonth)\n",
        "      df_molit_api.to_csv(filename, encoding='utf8', index=False)\n",
        "    else:\n",
        "      print(yearmonth, '이미 파일이 존재합니다.')"
      ],
      "execution_count": 7,
      "outputs": [
        {
          "output_type": "stream",
          "text": [
            "201201 이미 파일이 존재합니다.\n",
            "201202 이미 파일이 존재합니다.\n",
            "201203 이미 파일이 존재합니다.\n",
            "201204 이미 파일이 존재합니다.\n",
            "201205 이미 파일이 존재합니다.\n",
            "201206 이미 파일이 존재합니다.\n",
            "201207 이미 파일이 존재합니다.\n",
            "201208 이미 파일이 존재합니다.\n",
            "201209 이미 파일이 존재합니다.\n",
            "201210 이미 파일이 존재합니다.\n",
            "201211 이미 파일이 존재합니다.\n",
            "201212 이미 파일이 존재합니다.\n",
            "201301 이미 파일이 존재합니다.\n",
            "201302 이미 파일이 존재합니다.\n",
            "201303 이미 파일이 존재합니다.\n",
            "201304 이미 파일이 존재합니다.\n",
            "201305 이미 파일이 존재합니다.\n",
            "201306 이미 파일이 존재합니다.\n",
            "201307 이미 파일이 존재합니다.\n",
            "201308 이미 파일이 존재합니다.\n",
            "201309 이미 파일이 존재합니다.\n",
            "201310 이미 파일이 존재합니다.\n",
            "201311 이미 파일이 존재합니다.\n",
            "201312 이미 파일이 존재합니다.\n",
            "201401 이미 파일이 존재합니다.\n",
            "201402 이미 파일이 존재합니다.\n",
            "201403 이미 파일이 존재합니다.\n",
            "201404 이미 파일이 존재합니다.\n",
            "201405 이미 파일이 존재합니다.\n",
            "201406 이미 파일이 존재합니다.\n",
            "201407 이미 파일이 존재합니다.\n",
            "201408 이미 파일이 존재합니다.\n",
            "201409 이미 파일이 존재합니다.\n",
            "201410 이미 파일이 존재합니다.\n",
            "201411 이미 파일이 존재합니다.\n",
            "201412 이미 파일이 존재합니다.\n",
            "201501 이미 파일이 존재합니다.\n",
            "201502 이미 파일이 존재합니다.\n",
            "201503 이미 파일이 존재합니다.\n",
            "201504 이미 파일이 존재합니다.\n",
            "201505 이미 파일이 존재합니다.\n",
            "201506 이미 파일이 존재합니다.\n",
            "201507 이미 파일이 존재합니다.\n",
            "201508 이미 파일이 존재합니다.\n",
            "201509 이미 파일이 존재합니다.\n",
            "201510 이미 파일이 존재합니다.\n",
            "201511 이미 파일이 존재합니다.\n",
            "201512 이미 파일이 존재합니다.\n",
            "201601 이미 파일이 존재합니다.\n",
            "201602 이미 파일이 존재합니다.\n",
            "201603 이미 파일이 존재합니다.\n",
            "201604 이미 파일이 존재합니다.\n",
            "201605 이미 파일이 존재합니다.\n",
            "201606 이미 파일이 존재합니다.\n",
            "201607 이미 파일이 존재합니다.\n",
            "201608 이미 파일이 존재합니다.\n",
            "201609 이미 파일이 존재합니다.\n",
            "201610 이미 파일이 존재합니다.\n",
            "201611 이미 파일이 존재합니다.\n",
            "201612 이미 파일이 존재합니다.\n",
            "201701 이미 파일이 존재합니다.\n",
            "201702 이미 파일이 존재합니다.\n",
            "201703 이미 파일이 존재합니다.\n",
            "201704 이미 파일이 존재합니다.\n",
            "201705 이미 파일이 존재합니다.\n",
            "201706 이미 파일이 존재합니다.\n",
            "201707 이미 파일이 존재합니다.\n",
            "201708 이미 파일이 존재합니다.\n",
            "201709 이미 파일이 존재합니다.\n",
            "201710 이미 파일이 존재합니다.\n",
            "201711 이미 파일이 존재합니다.\n",
            "201712 이미 파일이 존재합니다.\n",
            "201801 이미 파일이 존재합니다.\n",
            "201802 이미 파일이 존재합니다.\n",
            "201803 이미 파일이 존재합니다.\n",
            "201804 이미 파일이 존재합니다.\n",
            "201805 이미 파일이 존재합니다.\n",
            "201806 이미 파일이 존재합니다.\n",
            "201807 이미 파일이 존재합니다.\n",
            "201808 이미 파일이 존재합니다.\n",
            "201809 이미 파일이 존재합니다.\n",
            "201810 이미 파일이 존재합니다.\n",
            "201811 이미 파일이 존재합니다.\n",
            "201812 이미 파일이 존재합니다.\n",
            "201901 이미 파일이 존재합니다.\n",
            "201902 이미 파일이 존재합니다.\n",
            "201903 이미 파일이 존재합니다.\n",
            "201904 이미 파일이 존재합니다.\n",
            "201905 이미 파일이 존재합니다.\n",
            "201906 이미 파일이 존재합니다.\n",
            "201907 이미 파일이 존재합니다.\n",
            "201908 이미 파일이 존재합니다.\n",
            "201909 이미 파일이 존재합니다.\n",
            "201910 이미 파일이 존재합니다.\n",
            "201911 이미 파일이 존재합니다.\n",
            "201912 이미 파일이 존재합니다.\n",
            "202001 이미 파일이 존재합니다.\n",
            "202002 이미 파일이 존재합니다.\n",
            "202003 이미 파일이 존재합니다.\n",
            "202004 이미 파일이 존재합니다.\n",
            "202005 이미 파일이 존재합니다.\n",
            "202006 이미 파일이 존재합니다.\n",
            "202007 이미 파일이 존재합니다.\n",
            "202008 이미 파일이 존재합니다.\n",
            "202009 이미 파일이 존재합니다.\n",
            "202010 이미 파일이 존재합니다.\n",
            "202011 이미 파일이 존재합니다.\n",
            "202012 이미 파일이 존재합니다.\n",
            "202101 이미 파일이 존재합니다.\n",
            "202102 이미 파일이 존재합니다.\n",
            "202103 이미 파일이 존재합니다.\n",
            "36110 202104\n",
            "(12, 13)\n"
          ],
          "name": "stdout"
        }
      ]
    },
    {
      "cell_type": "code",
      "metadata": {
        "id": "m42KKw43Es4G",
        "colab": {
          "base_uri": "https://localhost:8080/",
          "height": 204
        },
        "outputId": "9a5ba44b-23b2-48aa-e0e6-699992f9bc43"
      },
      "source": [
        "df = pd.read_csv('/content/drive/MyDrive/국토부_실거래/202102.csv')\n",
        "df.head()"
      ],
      "execution_count": 8,
      "outputs": [
        {
          "output_type": "execute_result",
          "data": {
            "text/html": [
              "<div>\n",
              "<style scoped>\n",
              "    .dataframe tbody tr th:only-of-type {\n",
              "        vertical-align: middle;\n",
              "    }\n",
              "\n",
              "    .dataframe tbody tr th {\n",
              "        vertical-align: top;\n",
              "    }\n",
              "\n",
              "    .dataframe thead th {\n",
              "        text-align: right;\n",
              "    }\n",
              "</style>\n",
              "<table border=\"1\" class=\"dataframe\">\n",
              "  <thead>\n",
              "    <tr style=\"text-align: right;\">\n",
              "      <th></th>\n",
              "      <th>거래금액</th>\n",
              "      <th>건축년도</th>\n",
              "      <th>년</th>\n",
              "      <th>법정동</th>\n",
              "      <th>아파트</th>\n",
              "      <th>월</th>\n",
              "      <th>일</th>\n",
              "      <th>전용면적</th>\n",
              "      <th>지번</th>\n",
              "      <th>지역코드</th>\n",
              "      <th>층</th>\n",
              "      <th>해제사유발생일</th>\n",
              "      <th>해제여부</th>\n",
              "    </tr>\n",
              "  </thead>\n",
              "  <tbody>\n",
              "    <tr>\n",
              "      <th>0</th>\n",
              "      <td>64,000</td>\n",
              "      <td>2019</td>\n",
              "      <td>2021</td>\n",
              "      <td>반곡동</td>\n",
              "      <td>수루배마을4단지(세종더샵예미지)</td>\n",
              "      <td>2</td>\n",
              "      <td>9</td>\n",
              "      <td>59.9000</td>\n",
              "      <td>가-4102-3</td>\n",
              "      <td>36110</td>\n",
              "      <td>9</td>\n",
              "      <td>NaN</td>\n",
              "      <td>NaN</td>\n",
              "    </tr>\n",
              "    <tr>\n",
              "      <th>1</th>\n",
              "      <td>47,000</td>\n",
              "      <td>2019</td>\n",
              "      <td>2021</td>\n",
              "      <td>반곡동</td>\n",
              "      <td>수루배마을6단지</td>\n",
              "      <td>2</td>\n",
              "      <td>15</td>\n",
              "      <td>59.9000</td>\n",
              "      <td>가-4101-4</td>\n",
              "      <td>36110</td>\n",
              "      <td>11</td>\n",
              "      <td>NaN</td>\n",
              "      <td>NaN</td>\n",
              "    </tr>\n",
              "    <tr>\n",
              "      <th>2</th>\n",
              "      <td>62,500</td>\n",
              "      <td>2019</td>\n",
              "      <td>2021</td>\n",
              "      <td>반곡동</td>\n",
              "      <td>수루배마을6단지</td>\n",
              "      <td>2</td>\n",
              "      <td>26</td>\n",
              "      <td>59.9000</td>\n",
              "      <td>가-4101-4</td>\n",
              "      <td>36110</td>\n",
              "      <td>3</td>\n",
              "      <td>NaN</td>\n",
              "      <td>NaN</td>\n",
              "    </tr>\n",
              "    <tr>\n",
              "      <th>3</th>\n",
              "      <td>149,500</td>\n",
              "      <td>2020</td>\n",
              "      <td>2021</td>\n",
              "      <td>소담동</td>\n",
              "      <td>새샘마을8단지</td>\n",
              "      <td>2</td>\n",
              "      <td>1</td>\n",
              "      <td>98.3757</td>\n",
              "      <td>531</td>\n",
              "      <td>36110</td>\n",
              "      <td>25</td>\n",
              "      <td>NaN</td>\n",
              "      <td>NaN</td>\n",
              "    </tr>\n",
              "    <tr>\n",
              "      <th>4</th>\n",
              "      <td>72,000</td>\n",
              "      <td>2020</td>\n",
              "      <td>2021</td>\n",
              "      <td>소담동</td>\n",
              "      <td>새샘마을8단지</td>\n",
              "      <td>2</td>\n",
              "      <td>2</td>\n",
              "      <td>98.0550</td>\n",
              "      <td>531</td>\n",
              "      <td>36110</td>\n",
              "      <td>7</td>\n",
              "      <td>NaN</td>\n",
              "      <td>NaN</td>\n",
              "    </tr>\n",
              "  </tbody>\n",
              "</table>\n",
              "</div>"
            ],
            "text/plain": [
              "      거래금액  건축년도     년  법정동  ...   지역코드   층  해제사유발생일  해제여부\n",
              "0   64,000  2019  2021  반곡동  ...  36110   9      NaN   NaN\n",
              "1   47,000  2019  2021  반곡동  ...  36110  11      NaN   NaN\n",
              "2   62,500  2019  2021  반곡동  ...  36110   3      NaN   NaN\n",
              "3  149,500  2020  2021  소담동  ...  36110  25      NaN   NaN\n",
              "4   72,000  2020  2021  소담동  ...  36110   7      NaN   NaN\n",
              "\n",
              "[5 rows x 13 columns]"
            ]
          },
          "metadata": {
            "tags": []
          },
          "execution_count": 8
        }
      ]
    }
  ]
}